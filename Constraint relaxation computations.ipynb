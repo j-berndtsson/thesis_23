{
 "cells": [
  {
   "cell_type": "code",
   "execution_count": 1,
   "id": "9fef948d",
   "metadata": {},
   "outputs": [],
   "source": [
    "import numpy as np\n",
    "import matplotlib.pyplot as plt\n",
    "\n",
    "from hmmlearn import hmm"
   ]
  },
  {
   "cell_type": "code",
   "execution_count": 100,
   "id": "f178b76f",
   "metadata": {},
   "outputs": [],
   "source": [
    "min_data_val = -2.5\n",
    "max_data_val = 2.6\n",
    "b_x = 0.01\n",
    "\n",
    "bins_full = int((max_data_val-min_data_val)/b_x)"
   ]
  },
  {
   "cell_type": "code",
   "execution_count": 101,
   "id": "6f2d8134",
   "metadata": {},
   "outputs": [],
   "source": [
    "def find_B(x_occ, x_unocc, sig, b_x, x_0, x_N):\n",
    "    \n",
    "    num = int((x_N - x_0)/b_x)\n",
    "    \n",
    "    x = np.linspace(x_0, x_N, num)\n",
    "            \n",
    "    b_est_occ = np.exp(- ((x - np.ones_like(x)*x_occ)**2) / (np.ones_like(x)*(sig**2)*2) )\n",
    "    b_est_unocc = np.exp(- ((x - np.ones_like(x)*x_unocc)**2) / (np.ones_like(x)*(sig**2)*2) )\n",
    "    \n",
    "    b_est_occ = b_est_occ/sum(b_est_occ)\n",
    "    b_est_unocc = b_est_unocc/sum(b_est_unocc)\n",
    "    \n",
    "    B = np.array([b_est_occ, b_est_unocc])\n",
    "    \n",
    "    return B"
   ]
  },
  {
   "cell_type": "code",
   "execution_count": 102,
   "id": "d56d3b4b",
   "metadata": {},
   "outputs": [],
   "source": [
    "def process_data(obs_seq, b_x, x_0, x_N):\n",
    "    \n",
    "    # x_0 and x_N should be entered with the same nr of sigfigs, and b_x \n",
    "    # should be smaller than the last decimal in x_0 and x_N\n",
    "    \n",
    "    len_counts = int((x_N - x_0)/b_x)\n",
    "    \n",
    "    processed_obs = []\n",
    "    \n",
    "    processed_obs = (obs_seq - np.ones(len(obs_seq))*x_0)/(np.ones(len(obs_seq))*b_x)\n",
    "    processed_obs = (np.rint(processed_obs)).astype(int)\n",
    "\n",
    "    return processed_obs"
   ]
  },
  {
   "cell_type": "markdown",
   "id": "95a68879",
   "metadata": {},
   "source": [
    "# Test"
   ]
  },
  {
   "cell_type": "code",
   "execution_count": 78,
   "id": "0870e829",
   "metadata": {},
   "outputs": [
    {
     "name": "stdout",
     "output_type": "stream",
     "text": [
      "[0.46126562 0.466521   0.5648367  0.51271535 0.44855902]\n"
     ]
    }
   ],
   "source": [
    "mu_0 = 0.1\n",
    "mu_1 = 0.5\n",
    "\n",
    "sigma = 0.05\n",
    "\n",
    "x = np.random.normal(mu_1, sigma, size = 5)\n",
    "print(x)"
   ]
  },
  {
   "cell_type": "code",
   "execution_count": 79,
   "id": "1ebad4ac",
   "metadata": {},
   "outputs": [],
   "source": [
    "B = find_B(mu_0, mu_1, sigma, b_x, min_data_val, max_data_val)"
   ]
  },
  {
   "cell_type": "code",
   "execution_count": 80,
   "id": "03d08bdb",
   "metadata": {},
   "outputs": [],
   "source": [
    "A = np.array([[9.99330213e-01, 6.69787002e-04],[4.96264643e-03, 9.95037354e-01]])"
   ]
  },
  {
   "cell_type": "code",
   "execution_count": 81,
   "id": "57689ddc",
   "metadata": {},
   "outputs": [],
   "source": [
    "processed = process_data(x, b_x, min_data_val, max_data_val)"
   ]
  },
  {
   "cell_type": "code",
   "execution_count": 82,
   "id": "fd363cad",
   "metadata": {},
   "outputs": [
    {
     "name": "stdout",
     "output_type": "stream",
     "text": [
      "[ 96  97 106 101  95]\n"
     ]
    }
   ],
   "source": [
    "print(processed)"
   ]
  },
  {
   "cell_type": "code",
   "execution_count": 83,
   "id": "8255b43e",
   "metadata": {},
   "outputs": [],
   "source": [
    "model = hmm.CategoricalHMM(n_components=2)\n",
    "model.transmat_ = A\n",
    "model.emissionprob_ = B\n",
    "model.startprob_ = np.array([0.5, 0.5])"
   ]
  },
  {
   "cell_type": "code",
   "execution_count": 84,
   "id": "409928fb",
   "metadata": {},
   "outputs": [
    {
     "data": {
      "text/plain": [
       "array([1, 1, 1, 1, 1])"
      ]
     },
     "execution_count": 84,
     "metadata": {},
     "output_type": "execute_result"
    }
   ],
   "source": [
    "model.predict(np.array(processed).reshape(1,-1))"
   ]
  },
  {
   "cell_type": "markdown",
   "id": "cd004b71",
   "metadata": {},
   "source": [
    "# Fix sigma, sweep delta mu, data same distibution"
   ]
  },
  {
   "cell_type": "code",
   "execution_count": 85,
   "id": "0b8e79c8",
   "metadata": {},
   "outputs": [],
   "source": [
    "sigma = 0.1\n",
    "\n",
    "mu_0_num = 0.1\n",
    "\n",
    "mu_1 = np.linspace(0.2, 0.55, 50)\n",
    "mu_0 = np.ones_like(mu_1)*mu_0_num\n",
    "delta_mu = mu_1 - mu_0"
   ]
  },
  {
   "cell_type": "code",
   "execution_count": 87,
   "id": "fa4abe6d",
   "metadata": {},
   "outputs": [],
   "source": [
    "iterations = int(1e4)\n",
    "\n",
    "sequence_len = 100\n",
    "\n",
    "prob_error_per_dms = np.zeros_like(delta_mu)\n",
    "prob_err_per_dms_error_bars = np.zeros_like(delta_mu)\n",
    "A = np.array([[9.99330213e-01, 6.69787002e-04],[4.96264643e-03, 9.95037354e-01]])\n",
    "\n",
    "for i in range(len(delta_mu)):\n",
    "    B = find_B(mu_0_num, mu_1[i], sigma, b_x, min_data_val, max_data_val)\n",
    "    model = hmm.CategoricalHMM(n_components=2)\n",
    "    model.transmat_ = A\n",
    "    model.emissionprob_ = B\n",
    "    model.startprob_ = np.array([0.5, 0.5])\n",
    "    \n",
    "    error_counts = np.zeros(iterations)\n",
    "    \n",
    "    for j in range(iterations): \n",
    "        x_obs = np.random.normal(mu_1[i], sigma, size = sequence_len)\n",
    "        x_obs = process_data(x_obs, b_x, min_data_val, max_data_val)\n",
    "        #print(np.array(x_obs).reshape(1,-1).shape, j, max(x_obs), min(x_obs))\n",
    "        result = model.predict(np.array(x_obs).reshape(1,-1))\n",
    "        \n",
    "        error_counts[j] = np.count_nonzero(result==0)\n",
    "    \n",
    "    prob_error_per_dms[i] = np.average(error_counts/(iterations*sequence_len))\n",
    "    prob_err_per_dms_error_bars[i] = np.var(error_counts/(iterations*sequence_len))\n",
    "        \n",
    "        \n",
    "        \n",
    "        \n",
    "        \n",
    "    "
   ]
  },
  {
   "cell_type": "code",
   "execution_count": 88,
   "id": "a9451edb",
   "metadata": {},
   "outputs": [
    {
     "name": "stdout",
     "output_type": "stream",
     "text": [
      "5.2504375e-13\n"
     ]
    },
    {
     "data": {
      "image/png": "[encoded data removed]",
      "text/plain": [
       "<Figure size 432x288 with 1 Axes>"
      ]
     },
     "metadata": {
      "needs_background": "light"
     },
     "output_type": "display_data"
    }
   ],
   "source": [
    "plt.scatter(delta_mu/sigma, prob_error_per_dms*sequence_len)\n",
    "plt.errorbar(delta_mu/sigma, prob_error_per_dms, yerr=prob_err_per_dms_error_bars)\n",
    "plt.ylim(-0.1, 1.1)\n",
    "print(max(prob_err_per_dms_error_bars))"
   ]
  },
  {
   "cell_type": "code",
   "execution_count": 91,
   "id": "8608f262",
   "metadata": {},
   "outputs": [
    {
     "data": {
      "text/plain": [
       "<matplotlib.collections.PathCollection at 0x7fc0d0324f70>"
      ]
     },
     "execution_count": 91,
     "metadata": {},
     "output_type": "execute_result"
    },
    {
     "data": {
      "image/png": "[encoded data removed]",
      "text/plain": [
       "<Figure size 432x288 with 1 Axes>"
      ]
     },
     "metadata": {
      "needs_background": "light"
     },
     "output_type": "display_data"
    }
   ],
   "source": [
    "B = find_B(mu_0_num, mu_1[0], sigma, b_x, min_data_val, max_data_val)\n",
    "plt.scatter(range(len(B[0])), B[0], color = 'orange')\n",
    "plt.scatter(range(len(B[1])), B[1], color = 'orange')\n",
    "\n",
    "B = find_B(mu_0_num+0.2, mu_1[20]+0.2, sigma, b_x, min_data_val, max_data_val)\n",
    "plt.scatter(range(len(B[0])), B[0], color = 'blue')\n",
    "plt.scatter(range(len(B[1])), B[1], color = 'blue')\n",
    "\n",
    "B1 = find_B(mu_0_num+0.4, mu_1[49]+0.4, sigma, b_x, min_data_val, max_data_val)\n",
    "plt.scatter(range(len(B1[0])), B1[0], color = 'green')\n",
    "plt.scatter(range(len(B1[1])), B1[1], color = 'green')"
   ]
  },
  {
   "cell_type": "markdown",
   "id": "379eafb8",
   "metadata": {},
   "source": [
    "# Fix delta, sweep sigma, data same distr"
   ]
  },
  {
   "cell_type": "code",
   "execution_count": 103,
   "id": "e05d2b87",
   "metadata": {},
   "outputs": [],
   "source": [
    "sigma = np.linspace(0.05, 0.4, 50)\n",
    "\n",
    "mu_0_num = 0.1\n",
    "\n",
    "mu_1_num = 0.5\n",
    "mu_0 = np.ones_like(sigma)*mu_0_num\n",
    "mu_1 = np.ones_like(sigma)*mu_1_num\n",
    "delta_mu = mu_1 - mu_0"
   ]
  },
  {
   "cell_type": "code",
   "execution_count": 106,
   "id": "6f6c5b54",
   "metadata": {},
   "outputs": [],
   "source": [
    "iterations = int(1e4)\n",
    "\n",
    "sequence_len = 100\n",
    "\n",
    "prob_error_per_dms = np.zeros_like(delta_mu)\n",
    "prob_err_per_dms_error_bars = np.zeros_like(delta_mu)\n",
    "A = np.array([[9.99330213e-01, 6.69787002e-04],[4.96264643e-03, 9.95037354e-01]])\n",
    "\n",
    "for i in range(len(delta_mu)):\n",
    "    B = find_B(mu_0_num, mu_1_num, sigma[i], b_x, min_data_val, max_data_val)\n",
    "    model = hmm.CategoricalHMM(n_components=2)\n",
    "    model.transmat_ = A\n",
    "    model.emissionprob_ = B\n",
    "    model.startprob_ = np.array([0.5, 0.5])\n",
    "    \n",
    "    error_counts = np.zeros(iterations)\n",
    "    \n",
    "    for j in range(iterations): \n",
    "        x_obs = np.random.normal(mu_1_num, sigma[i], size = sequence_len)\n",
    "        x_obs = process_data(x_obs, b_x, min_data_val, max_data_val)\n",
    "        #print(np.array(x_obs).reshape(1,-1).shape, j, max(x_obs), min(x_obs))\n",
    "        result = model.predict(np.array(x_obs).reshape(1,-1))\n",
    "        \n",
    "        error_counts[j] = np.count_nonzero(result==0)\n",
    "    \n",
    "    prob_error_per_dms[i] = np.average(error_counts/(iterations*sequence_len))\n",
    "    prob_err_per_dms_error_bars[i] = np.var(error_counts/(iterations*sequence_len))\n",
    "        \n",
    "        "
   ]
  },
  {
   "cell_type": "code",
   "execution_count": 107,
   "id": "a1885b8c",
   "metadata": {},
   "outputs": [
    {
     "name": "stdout",
     "output_type": "stream",
     "text": [
      "6.835839599999999e-13\n"
     ]
    },
    {
     "data": {
      "image/png": "[encoded data removed]",
      "text/plain": [
       "<Figure size 432x288 with 1 Axes>"
      ]
     },
     "metadata": {
      "needs_background": "light"
     },
     "output_type": "display_data"
    }
   ],
   "source": [
    "plt.scatter(delta_mu/sigma, prob_error_per_dms*sequence_len)\n",
    "plt.errorbar(delta_mu/sigma, prob_error_per_dms, yerr=prob_err_per_dms_error_bars)\n",
    "plt.ylim(-0.1, 1.1)\n",
    "print(max(prob_err_per_dms_error_bars))"
   ]
  },
  {
   "cell_type": "markdown",
   "id": "83d5eb70",
   "metadata": {},
   "source": [
    "# Blip data, fix sigma, sweep delta mu"
   ]
  },
  {
   "cell_type": "code",
   "execution_count": 145,
   "id": "e8a3e8a6",
   "metadata": {},
   "outputs": [],
   "source": [
    "t_up_off_min = 10 # micro sec\n",
    "t_up_off_max = 200 # micro sec\n",
    "t_unocc_min = 10 # mic sec\n",
    "t_unocc_max = 200 # mic sec"
   ]
  },
  {
   "cell_type": "code",
   "execution_count": 158,
   "id": "06bde5ee",
   "metadata": {},
   "outputs": [],
   "source": [
    "ind_t_up_off_min = int((2.5e6)*10/1e6 )# index\n",
    "ind_t_up_off_max = int((2.5e6)*200/1e6 )# index\n",
    "ind_t_unocc_min = int((2.5e6)*10/1e6) # index\n",
    "ind_t_unocc_max = int((2.5e6)*200/1e6) # index"
   ]
  },
  {
   "cell_type": "markdown",
   "id": "dce82884",
   "metadata": {},
   "source": [
    "## Test"
   ]
  },
  {
   "cell_type": "code",
   "execution_count": 214,
   "id": "a819abfd",
   "metadata": {},
   "outputs": [],
   "source": [
    "t_off_rand = int(np.random.uniform(ind_t_up_off_min, ind_t_up_off_max))\n",
    "t_unocc_rand = int(np.random.uniform(ind_t_unocc_min, ind_t_unocc_max))\n",
    "\n",
    "t_on_rand = t_off_rand + t_unocc_rand"
   ]
  },
  {
   "cell_type": "code",
   "execution_count": 215,
   "id": "53470565",
   "metadata": {},
   "outputs": [],
   "source": [
    "mu_0 = 0\n",
    "mu_1 = 0\n",
    "sigma = 0.1\n",
    "\n",
    "T_ind = 1700"
   ]
  },
  {
   "cell_type": "code",
   "execution_count": 216,
   "id": "9a924fc6",
   "metadata": {},
   "outputs": [],
   "source": [
    "init_occ_seq = np.random.normal(mu_0, sigma, size = t_off_rand)\n",
    "unocc_seq = np.random.normal(mu_1, sigma, size = t_unocc_rand)\n",
    "final_occ_seq = np.random.normal(mu_0, sigma, size = int(T_ind - t_on_rand))\n",
    "\n",
    "match = np.concatenate((np.zeros_like(init_occ_seq), np.ones_like(unocc_seq), np.zeros_like(final_occ_seq)))"
   ]
  },
  {
   "cell_type": "code",
   "execution_count": 217,
   "id": "febcfb80",
   "metadata": {},
   "outputs": [],
   "source": [
    "seq = np.concatenate((init_occ_seq, unocc_seq, final_occ_seq))\n",
    "\n",
    "seq_int = process_data(seq, b_x, min_data_val, max_data_val)"
   ]
  },
  {
   "cell_type": "code",
   "execution_count": 218,
   "id": "2cab5dd9",
   "metadata": {},
   "outputs": [
    {
     "name": "stdout",
     "output_type": "stream",
     "text": [
      "478.0\n"
     ]
    }
   ],
   "source": [
    "A = np.array([[9.99330213e-01, 6.69787002e-04],[4.96264643e-03, 9.95037354e-01]])\n",
    "B = find_B(mu_0, mu_1, sigma, b_x, min_data_val, max_data_val)\n",
    "\n",
    "model = hmm.CategoricalHMM(n_components=2)\n",
    "model.transmat_ = A\n",
    "model.emissionprob_ = B\n",
    "model.startprob_ = np.array([0.5, 0.5])\n",
    "\n",
    "res = model.predict(np.array(seq_int).reshape(1,-1))\n",
    "\n",
    "print(sum(np.abs(res-match)))"
   ]
  },
  {
   "cell_type": "code",
   "execution_count": 219,
   "id": "52245371",
   "metadata": {},
   "outputs": [
    {
     "data": {
      "text/plain": [
       "[<matplotlib.lines.Line2D at 0x7fc0900caa00>]"
      ]
     },
     "execution_count": 219,
     "metadata": {},
     "output_type": "execute_result"
    },
    {
     "data": {
      "image/png": "[encoded data removed]",
      "text/plain": [
       "<Figure size 432x288 with 1 Axes>"
      ]
     },
     "metadata": {
      "needs_background": "light"
     },
     "output_type": "display_data"
    }
   ],
   "source": [
    "plt.plot(np.array(range(len(seq))), seq)\n",
    "plt.plot(np.array(range(len(seq))), res)"
   ]
  },
  {
   "cell_type": "markdown",
   "id": "36d04e83",
   "metadata": {},
   "source": [
    "## Real run"
   ]
  },
  {
   "cell_type": "code",
   "execution_count": 222,
   "id": "bfcde542",
   "metadata": {},
   "outputs": [],
   "source": [
    "sigma = 0.1\n",
    "\n",
    "mu_0_num = 0.1\n",
    "\n",
    "mu_1 = np.linspace(0.1, 0.55, 50)\n",
    "mu_0 = np.ones_like(mu_1)*mu_0_num\n",
    "delta_mu = mu_1 - mu_0"
   ]
  },
  {
   "cell_type": "code",
   "execution_count": 223,
   "id": "7b3dd952",
   "metadata": {},
   "outputs": [
    {
     "name": "stdout",
     "output_type": "stream",
     "text": [
      "[0.         0.00918367 0.01836735 0.02755102 0.03673469 0.04591837\n",
      " 0.05510204 0.06428571 0.07346939 0.08265306 0.09183673 0.10102041\n",
      " 0.11020408 0.11938776 0.12857143 0.1377551  0.14693878 0.15612245\n",
      " 0.16530612 0.1744898  0.18367347 0.19285714 0.20204082 0.21122449\n",
      " 0.22040816 0.22959184 0.23877551 0.24795918 0.25714286 0.26632653\n",
      " 0.2755102  0.28469388 0.29387755 0.30306122 0.3122449  0.32142857\n",
      " 0.33061224 0.33979592 0.34897959 0.35816327 0.36734694 0.37653061\n",
      " 0.38571429 0.39489796 0.40408163 0.41326531 0.42244898 0.43163265\n",
      " 0.44081633 0.45      ]\n"
     ]
    }
   ],
   "source": [
    "print(delta_mu)"
   ]
  },
  {
   "cell_type": "code",
   "execution_count": 306,
   "id": "449a36d1",
   "metadata": {},
   "outputs": [
    {
     "name": "stdout",
     "output_type": "stream",
     "text": [
      "0\n",
      "1\n",
      "2\n",
      "3\n",
      "4\n",
      "5\n",
      "6\n",
      "7\n",
      "8\n",
      "9\n",
      "10\n",
      "11\n",
      "12\n",
      "13\n",
      "14\n",
      "15\n",
      "16\n",
      "17\n",
      "18\n",
      "19\n",
      "20\n",
      "21\n",
      "22\n",
      "23\n",
      "24\n",
      "25\n",
      "26\n",
      "27\n",
      "28\n",
      "29\n",
      "30\n",
      "31\n",
      "32\n",
      "33\n",
      "34\n",
      "35\n",
      "36\n",
      "37\n",
      "38\n",
      "39\n",
      "40\n",
      "41\n",
      "42\n",
      "43\n",
      "44\n",
      "45\n",
      "46\n",
      "47\n",
      "48\n",
      "49\n"
     ]
    },
    {
     "data": {
      "image/png": "[encoded data removed]",
      "text/plain": [
       "<Figure size 432x288 with 1 Axes>"
      ]
     },
     "metadata": {
      "needs_background": "light"
     },
     "output_type": "display_data"
    }
   ],
   "source": [
    "iterations = int(1e4)\n",
    "T_ind = 1700\n",
    "\n",
    "\n",
    "prob_error_per_dms = np.zeros_like(delta_mu)\n",
    "prob_err_per_dms_error_bars = np.zeros_like(delta_mu)\n",
    "prob_correct_per_dms = np.zeros_like(delta_mu)\n",
    "A = np.array([[9.99330213e-01, 6.69787002e-04],[4.96264643e-03, 9.95037354e-01]])\n",
    "\n",
    "for i in range(len(delta_mu)):\n",
    "    print(i)\n",
    "    \n",
    "    B = find_B(mu_0_num, mu_1[i], sigma, b_x, min_data_val, max_data_val)\n",
    "    model = hmm.CategoricalHMM(n_components=2)\n",
    "    model.transmat_ = A\n",
    "    model.emissionprob_ = B\n",
    "    model.startprob_ = np.array([0.5, 0.5])\n",
    "    \n",
    "    error_counts = np.zeros(iterations)\n",
    "    corr_count = np.zeros(iterations)\n",
    "    \n",
    "    for j in range(iterations): \n",
    "        t_off_rand = int(np.random.uniform(ind_t_up_off_min, ind_t_up_off_max))\n",
    "        t_unocc_rand = int(np.random.uniform(ind_t_unocc_min, ind_t_unocc_max))\n",
    "        t_on_rand = t_off_rand + t_unocc_rand\n",
    "\n",
    "        init_occ_seq = np.random.normal(mu_0_num, sigma, size = t_off_rand)\n",
    "        unocc_seq = np.random.normal(mu_1[i], sigma, size = t_unocc_rand)\n",
    "        final_occ_seq = np.random.normal(mu_0_num, sigma, size = int(T_ind - t_on_rand))\n",
    "\n",
    "        match = np.concatenate((np.zeros_like(init_occ_seq), np.ones_like(unocc_seq), np.zeros_like(final_occ_seq)))\n",
    "\n",
    "        seq = np.concatenate((init_occ_seq, unocc_seq, final_occ_seq))\n",
    "        x_obs = process_data(seq, b_x, min_data_val, max_data_val)\n",
    "        \n",
    "        res = model.predict(np.array(x_obs).reshape(1,-1))\n",
    "        \n",
    "        error_counts[j] = sum(np.abs(res-match))\n",
    "        \n",
    "        if sum(res) >= 1:\n",
    "            corr_count[j] = 1\n",
    "            \n",
    "        if i == 0 and j == 0:\n",
    "            plt.plot(range(len(seq)), seq)\n",
    "            plt.plot(range(len(seq)), res)\n",
    "            plt.plot(range(len(seq)), match)\n",
    "    \n",
    "    prob_error_per_dms[i] = np.average(error_counts/(iterations*len(seq)))\n",
    "    prob_err_per_dms_error_bars[i] = np.var(error_counts/(iterations*len(seq)))\n",
    "    prob_correct_per_dms[i] = np.average(corr_count)\n",
    "        \n",
    "        "
   ]
  },
  {
   "cell_type": "code",
   "execution_count": 307,
   "id": "d4037304",
   "metadata": {},
   "outputs": [
    {
     "data": {
      "text/plain": [
       "Text(0.5, 0, 'SNR')"
      ]
     },
     "execution_count": 307,
     "metadata": {},
     "output_type": "execute_result"
    },
    {
     "data": {
      "image/png": "[encoded data removed]",
      "text/plain": [
       "<Figure size 432x288 with 1 Axes>"
      ]
     },
     "metadata": {
      "needs_background": "light"
     },
     "output_type": "display_data"
    }
   ],
   "source": [
    "plt.scatter(delta_mu/sigma, prob_error_per_dms*len(seq))\n",
    "#plt.errorbar(delta_mu/sigma, prob_error_per_dms, yerr=prob_err_per_dms_error_bars)\n",
    "plt.ylim(-0.1, 1.1)\n",
    "plt.ylabel('prob classifying a point wrong')\n",
    "plt.xlabel('SNR')"
   ]
  },
  {
   "cell_type": "code",
   "execution_count": 308,
   "id": "f2d8ce0c",
   "metadata": {},
   "outputs": [
    {
     "data": {
      "text/plain": [
       "<matplotlib.legend.Legend at 0x7fc0d112ffd0>"
      ]
     },
     "execution_count": 308,
     "metadata": {},
     "output_type": "execute_result"
    },
    {
     "data": {
      "image/png": "[encoded data removed]",
      "text/plain": [
       "<Figure size 432x288 with 1 Axes>"
      ]
     },
     "metadata": {
      "needs_background": "light"
     },
     "output_type": "display_data"
    }
   ],
   "source": [
    "plt.scatter(delta_mu/sigma, prob_correct_per_dms, label='Model performance')\n",
    "plt.plot(delta_mu/sigma, np.ones_like(prob_correct_per_dms)*0.9,'--', color='red', label='Prob = 0.9')\n",
    "plt.plot(delta_mu/sigma, np.ones_like(prob_correct_per_dms)*0.99,'--', color='orange', label='Prob = 0.99')\n",
    "#plt.errorbar(delta_mu/sigma, prob_error_per_dms, yerr=prob_err_per_dms_error_bars)\n",
    "plt.ylim(-0.1, 1.1)\n",
    "plt.ylabel('Prob classifying file correctly')\n",
    "plt.xlabel('delta mu/sigma')\n",
    "plt.legend()"
   ]
  },
  {
   "cell_type": "code",
   "execution_count": 309,
   "id": "51fe38c0",
   "metadata": {},
   "outputs": [
    {
     "data": {
      "text/plain": [
       "<matplotlib.legend.Legend at 0x7fc10206fee0>"
      ]
     },
     "execution_count": 309,
     "metadata": {},
     "output_type": "execute_result"
    },
    {
     "data": {
      "image/png": "[encoded data removed]",
      "text/plain": [
       "<Figure size 432x288 with 1 Axes>"
      ]
     },
     "metadata": {
      "needs_background": "light"
     },
     "output_type": "display_data"
    }
   ],
   "source": [
    "plt.scatter(delta_mu/sigma, prob_correct_per_dms, label='Model performance')\n",
    "plt.plot(delta_mu/sigma, np.ones_like(prob_correct_per_dms)*0.9,'--', color='red', label='Prob = 0.9')\n",
    "plt.plot(delta_mu/sigma, np.ones_like(prob_correct_per_dms)*0.99,'--', color='orange', label='Prob = 0.99')\n",
    "#plt.errorbar(delta_mu/sigma, prob_error_per_dms, yerr=prob_err_per_dms_error_bars)\n",
    "plt.yscale('log')\n",
    "plt.ylabel('Prob classifying file correctly')\n",
    "plt.xlabel('delta mu/sigma')\n",
    "plt.legend()"
   ]
  },
  {
   "cell_type": "code",
   "execution_count": 242,
   "id": "6f4e425f",
   "metadata": {},
   "outputs": [
    {
     "name": "stdout",
     "output_type": "stream",
     "text": [
      "48.212900000000005\n"
     ]
    }
   ],
   "source": [
    "print(sum(prob_correct_per_dms))"
   ]
  },
  {
   "cell_type": "code",
   "execution_count": 255,
   "id": "e2b45808",
   "metadata": {},
   "outputs": [
    {
     "name": "stdout",
     "output_type": "stream",
     "text": [
      "1.0102040816326532\n"
     ]
    }
   ],
   "source": [
    "print(delta_mu[11]/sigma)"
   ]
  },
  {
   "cell_type": "code",
   "execution_count": 252,
   "id": "8cf44aec",
   "metadata": {},
   "outputs": [
    {
     "data": {
      "text/plain": [
       "array([0.    , 0.8297, 0.8433, 0.8519, 0.8813, 0.9226, 0.9513, 0.9676,\n",
       "       0.9837, 0.9903])"
      ]
     },
     "execution_count": 252,
     "metadata": {},
     "output_type": "execute_result"
    }
   ],
   "source": [
    "prob_correct_per_dms[:10]"
   ]
  },
  {
   "cell_type": "markdown",
   "id": "6ff1454f",
   "metadata": {},
   "source": [
    "## spin down"
   ]
  },
  {
   "cell_type": "code",
   "execution_count": 294,
   "id": "e970b13d",
   "metadata": {},
   "outputs": [
    {
     "name": "stdout",
     "output_type": "stream",
     "text": [
      "0\n",
      "1\n",
      "2\n",
      "3\n",
      "4\n",
      "5\n",
      "6\n",
      "7\n",
      "8\n",
      "9\n",
      "10\n",
      "11\n",
      "12\n",
      "13\n",
      "14\n",
      "15\n",
      "16\n",
      "17\n",
      "18\n",
      "19\n",
      "20\n",
      "21\n",
      "22\n",
      "23\n",
      "24\n",
      "25\n",
      "26\n",
      "27\n",
      "28\n",
      "29\n",
      "30\n",
      "31\n",
      "32\n",
      "33\n",
      "34\n",
      "35\n",
      "36\n",
      "37\n",
      "38\n",
      "39\n",
      "40\n",
      "41\n",
      "42\n",
      "43\n",
      "44\n",
      "45\n",
      "46\n",
      "47\n",
      "48\n",
      "49\n"
     ]
    },
    {
     "data": {
      "image/png": "[encoded data removed]",
      "text/plain": [
       "<Figure size 432x288 with 1 Axes>"
      ]
     },
     "metadata": {
      "needs_background": "light"
     },
     "output_type": "display_data"
    }
   ],
   "source": [
    "iterations = int(1e4)\n",
    "T_ind = 1700\n",
    "\n",
    "\n",
    "prob_error_per_dms = np.zeros_like(delta_mu)\n",
    "prob_err_per_dms_error_bars = np.zeros_like(delta_mu)\n",
    "prob_correct_per_dms = np.zeros_like(delta_mu)\n",
    "A = np.array([[9.99330213e-01, 6.69787002e-04],[4.96264643e-03, 9.95037354e-01]])\n",
    "\n",
    "for i in range(len(delta_mu)):\n",
    "    print(i)\n",
    "    \n",
    "    B = find_B(mu_0_num, mu_1[i], sigma, b_x, min_data_val, max_data_val)\n",
    "    model = hmm.CategoricalHMM(n_components=2)\n",
    "    model.transmat_ = A\n",
    "    model.emissionprob_ = B\n",
    "    model.startprob_ = np.array([0.5, 0.5])\n",
    "    \n",
    "    error_counts = np.zeros(iterations)\n",
    "    corr_count = np.zeros(iterations)\n",
    "    \n",
    "    for j in range(iterations): \n",
    "        seq = np.random.normal(mu_0_num, sigma, size = int(T_ind))\n",
    "\n",
    "        match = np.zeros_like(seq)\n",
    "\n",
    "        x_obs = process_data(seq, b_x, min_data_val, max_data_val)\n",
    "        \n",
    "        res = model.predict(np.array(x_obs).reshape(1,-1))\n",
    "        \n",
    "        error_counts[j] = sum(np.abs(res-match))\n",
    "        \n",
    "        if sum(res) < 1:\n",
    "            corr_count[j] = 1\n",
    "            \n",
    "        if i == 0 and j == 0:\n",
    "            plt.plot(range(len(seq)), seq)\n",
    "            plt.plot(range(len(seq)), res)\n",
    "            plt.plot(range(len(seq)), match)\n",
    "    \n",
    "    prob_error_per_dms[i] = np.average(error_counts/(iterations*len(seq)))\n",
    "    prob_err_per_dms_error_bars[i] = np.var(error_counts/(iterations*len(seq)))\n",
    "    prob_correct_per_dms[i] = np.average(corr_count)\n",
    "        "
   ]
  },
  {
   "cell_type": "code",
   "execution_count": 295,
   "id": "54a20bc6",
   "metadata": {},
   "outputs": [
    {
     "data": {
      "text/plain": [
       "<matplotlib.legend.Legend at 0x7fc090599e80>"
      ]
     },
     "execution_count": 295,
     "metadata": {},
     "output_type": "execute_result"
    },
    {
     "data": {
      "image/png": "[encoded data removed]",
      "text/plain": [
       "<Figure size 432x288 with 1 Axes>"
      ]
     },
     "metadata": {
      "needs_background": "light"
     },
     "output_type": "display_data"
    }
   ],
   "source": [
    "plt.scatter(delta_mu/sigma, prob_correct_per_dms, label='Model performance')\n",
    "plt.plot(delta_mu/sigma, np.ones_like(prob_correct_per_dms)*0.9,'--', color='red', label='Prob = 0.9')\n",
    "plt.plot(delta_mu/sigma, np.ones_like(prob_correct_per_dms)*0.99,'--', color='orange', label='Prob = 0.99')\n",
    "#plt.errorbar(delta_mu/sigma, prob_error_per_dms, yerr=prob_err_per_dms_error_bars)\n",
    "plt.ylim(-0.1, 1.1)\n",
    "plt.yscale('linear')\n",
    "plt.ylabel('Prob classifying file correctly')\n",
    "plt.xlabel('delta mu/sigma')\n",
    "plt.legend()"
   ]
  },
  {
   "cell_type": "code",
   "execution_count": 296,
   "id": "ef80661d",
   "metadata": {},
   "outputs": [
    {
     "data": {
      "text/plain": [
       "(0.82, 1.01)"
      ]
     },
     "execution_count": 296,
     "metadata": {},
     "output_type": "execute_result"
    },
    {
     "data": {
      "image/png": "[encoded data removed]",
      "text/plain": [
       "<Figure size 432x288 with 1 Axes>"
      ]
     },
     "metadata": {
      "needs_background": "light"
     },
     "output_type": "display_data"
    }
   ],
   "source": [
    "plt.scatter(delta_mu/sigma, prob_correct_per_dms, label='Model performance')\n",
    "plt.plot(delta_mu/sigma, np.ones_like(prob_correct_per_dms)*0.9,'--', color='red', label='Prob = 0.9')\n",
    "plt.plot(delta_mu/sigma, np.ones_like(prob_correct_per_dms)*0.99,'--', color='orange', label='Prob = 0.99')\n",
    "#plt.errorbar(delta_mu/sigma, prob_error_per_dms, yerr=prob_err_per_dms_error_bars)\n",
    "plt.yscale('log')\n",
    "plt.ylabel('Prob classifying file correctly')\n",
    "plt.xlabel('delta mu/sigma')\n",
    "plt.legend()\n",
    "plt.ylim(0.82, 1.01)"
   ]
  },
  {
   "cell_type": "code",
   "execution_count": 304,
   "id": "15c7fc84",
   "metadata": {},
   "outputs": [
    {
     "data": {
      "text/plain": [
       "0.9908"
      ]
     },
     "execution_count": 304,
     "metadata": {},
     "output_type": "execute_result"
    }
   ],
   "source": [
    "prob_correct_per_dms[20]"
   ]
  },
  {
   "cell_type": "code",
   "execution_count": 303,
   "id": "e3dab852",
   "metadata": {},
   "outputs": [
    {
     "data": {
      "text/plain": [
       "1.836734693877551"
      ]
     },
     "execution_count": 303,
     "metadata": {},
     "output_type": "execute_result"
    }
   ],
   "source": [
    "delta_mu[20]/sigma"
   ]
  },
  {
   "cell_type": "code",
   "execution_count": null,
   "id": "3a981f73",
   "metadata": {},
   "outputs": [],
   "source": []
  }
 ],
 "metadata": {
  "kernelspec": {
   "display_name": "Python 3 (ipykernel)",
   "language": "python",
   "name": "python3"
  },
  "language_info": {
   "codemirror_mode": {
    "name": "ipython",
    "version": 3
   },
   "file_extension": ".py",
   "mimetype": "text/x-python",
   "name": "python",
   "nbconvert_exporter": "python",
   "pygments_lexer": "ipython3",
   "version": "3.9.7"
  }
 },
 "nbformat": 4,
 "nbformat_minor": 5
}
