{
 "cells": [
  {
   "cell_type": "code",
   "execution_count": 1,
   "id": "eee1ea04",
   "metadata": {},
   "outputs": [],
   "source": [
    "import numpy as np\n",
    "import matplotlib.pyplot as plt\n",
    "import os\n",
    "import sys\n",
    "\n",
    "from neo import io\n",
    "import pandas as pd\n",
    "from hmmlearn import hmm"
   ]
  },
  {
   "cell_type": "markdown",
   "id": "25730b28",
   "metadata": {},
   "source": [
    "# Load data"
   ]
  },
  {
   "cell_type": "code",
   "execution_count": 2,
   "id": "7ab2ceea",
   "metadata": {},
   "outputs": [
    {
     "data": {
      "text/plain": [
       "(9992, 5000)"
      ]
     },
     "execution_count": 2,
     "metadata": {},
     "output_type": "execute_result"
    }
   ],
   "source": [
    "r = io.IgorIO(filename='upShots_3623.ibw')\n",
    "data_an_up = r.read_analogsignal()\n",
    "data_arr_up = np.array(data_an_up)\n",
    "\n",
    "r = io.IgorIO(filename='downShots_3624.ibw')\n",
    "data_an_down = r.read_analogsignal()\n",
    "data_arr_down = np.array(data_an_down)\n",
    "data_arr_up.shape"
   ]
  },
  {
   "cell_type": "markdown",
   "id": "ef76d4e6",
   "metadata": {},
   "source": [
    "# Setting up functions"
   ]
  },
  {
   "cell_type": "code",
   "execution_count": 30,
   "id": "065498bf",
   "metadata": {},
   "outputs": [],
   "source": [
    "def process_data(data_start_index, data_stop_index, b_x, x_0, x_N, T_ind):\n",
    "    \n",
    "    # x_0 and x_N should be entered with the same nr of sigfigs, and b_x \n",
    "    # should be smaller than the last decimal in x_0 and x_N\n",
    "    \n",
    "    len_counts = int((x_N - x_0)/b_x)\n",
    "    \n",
    "    counts_up = np.zeros(len_counts)\n",
    "    counts_down = np.zeros(len_counts)\n",
    "    processed_up_all = []\n",
    "    processed_down_all = []\n",
    "    b_temp_up_all = []\n",
    "    b_temp_down_all = []\n",
    "    \n",
    "    for i in range(data_start_index, data_stop_index):\n",
    "        data_up_raw = np.array(data_arr_up[:,i])[15:T_ind]\n",
    "        data_down_raw = np.array(data_arr_down[:,i])[15:T_ind]\n",
    "        \n",
    "        temp_up = (data_up_raw - np.ones(len(data_up_raw))*x_0)/(np.ones(len(data_up_raw))*b_x)\n",
    "        temp_up = (np.rint(temp_up)).astype(int)\n",
    "        \n",
    "        temp_down = (data_down_raw - np.ones(len(data_down_raw))*x_0)/(np.ones(len(data_down_raw))*b_x)\n",
    "        temp_down = (np.rint(temp_down)).astype(int)\n",
    "        \n",
    "        processed_up_all.append(temp_up)\n",
    "        processed_down_all.append(temp_down)\n",
    "        \n",
    "        for j in range(len(temp_up)):\n",
    "            counts_up[temp_up[j]] += 1\n",
    "            counts_down[temp_down[j]] += 1\n",
    "        \n",
    "    return processed_up_all, processed_down_all, counts_up, counts_down\n",
    "\n",
    "def find_B(up_counts, down_counts, start, stop, T_ind):\n",
    "            \n",
    "    b_est_up = up_counts/(np.ones(len(up_counts))*(T_ind-15)*(stop-start))\n",
    "    b_est_down = down_counts/(np.ones(len(down_counts))*(T_ind-15)*(stop-start))\n",
    "    \n",
    "    B = np.array([b_est_up, b_est_down])\n",
    "    \n",
    "    return B\n",
    "\n",
    "\n",
    "def find_B2(up_counts, down_counts, wind_len, T_ind):\n",
    "            \n",
    "    b_est_up = up_counts/(np.ones(len(up_counts))*sum(up_counts))\n",
    "    b_est_down = down_counts/(np.ones(len(down_counts))*sum(down_counts))\n",
    "    \n",
    "    B = np.array([b_est_up, b_est_down])\n",
    "    \n",
    "    return B"
   ]
  },
  {
   "cell_type": "code",
   "execution_count": 4,
   "id": "404c1288",
   "metadata": {},
   "outputs": [],
   "source": [
    "def test(A, B, pi, test_start_index, test_stop_index, test_data_up, test_data_down):\n",
    "    \n",
    "    # new model\n",
    "    model = hmm.CategoricalHMM(n_components=2)\n",
    "    model.transmat_ = A\n",
    "    model.emissionprob_ = B\n",
    "    model.startprob_ = pi\n",
    "\n",
    "    test_window = (test_stop_index - test_start_index)\n",
    "\n",
    "    # new\n",
    "    corru = 0\n",
    "    wrongu = 0\n",
    "\n",
    "    corrd = 0\n",
    "    wrongd = 0\n",
    "\n",
    "    wrong_ind_up = []\n",
    "    wrong_ind_down = []\n",
    "    \n",
    "    # old\n",
    "    corru_p = 0\n",
    "    wrongu_p = 0\n",
    "\n",
    "    corrd_p = 0\n",
    "    wrongd_p = 0\n",
    "\n",
    "    p_wrong_ind_u = []\n",
    "    p_wrong_ind_d = []\n",
    "\n",
    "    for i in range(len(test_data_up)):\n",
    "        res_up_temp = model.predict(np.array(test_data_up[i]).reshape(1,-1))\n",
    "        res_down_temp = model.predict(np.array(test_data_down[i]).reshape(1,-1))\n",
    "\n",
    "        # new\n",
    "        if res_up_temp[-1] == 0:\n",
    "            corru += 1\n",
    "        else:\n",
    "            wrongu += 1\n",
    "            wrong_ind_up.append(i)\n",
    "\n",
    "        if res_down_temp[-1] == 1:\n",
    "            corrd += 1\n",
    "        else:\n",
    "            wrongd += 1\n",
    "            wrong_ind_down.append(i)\n",
    "        \n",
    "        # old\n",
    "        if max(test_data_up[i]) > (47/75)*(x_N-x_0)/b_x:\n",
    "            res_up_temp = 0\n",
    "        else:\n",
    "            res_up_temp = 1\n",
    "\n",
    "        if max(test_data_down[i]) > (47/75)*(x_N-x_0)/b_x:\n",
    "            res_down_temp = 0\n",
    "        else:\n",
    "            res_down_temp = 1\n",
    "\n",
    "        if res_up_temp == 0: # if above 470\n",
    "            corru_p += 1\n",
    "        else:\n",
    "            wrongu_p += 1\n",
    "            p_wrong_ind_u.append(i)\n",
    "\n",
    "        if res_down_temp == 1: # if not above 470\n",
    "            corrd_p += 1\n",
    "        else:\n",
    "            wrongd_p += 1\n",
    "            p_wrong_ind_d.append(i)\n",
    "            \n",
    "    # new model metrics\n",
    "    acc_rate_up = corru/(test_window)\n",
    "    acc_rate_down = corrd/(test_window)\n",
    "    \n",
    "    #old mode metrics\n",
    "    p_acc_rate_up = corru_p/(test_window)\n",
    "    p_acc_rate_down = corrd_p/(test_window)\n",
    "    \n",
    "    return acc_rate_up, acc_rate_down, p_acc_rate_up, p_acc_rate_down"
   ]
  },
  {
   "cell_type": "markdown",
   "id": "0c8d58bc",
   "metadata": {},
   "source": [
    "# Find params"
   ]
  },
  {
   "cell_type": "code",
   "execution_count": 45,
   "id": "fed78305",
   "metadata": {},
   "outputs": [
    {
     "name": "stdout",
     "output_type": "stream",
     "text": [
      "750\n",
      "750\n"
     ]
    }
   ],
   "source": [
    "start = 0\n",
    "stop = 1000\n",
    "\n",
    "b_x = 0.001\n",
    "x_0 = -0.20\n",
    "x_N = 0.55\n",
    "\n",
    "T_ind = 2500\n",
    "\n",
    "data_up, data_down, counts_up, counts_down = process_data(start, stop, b_x, x_0, x_N, T_ind)\n",
    "\n",
    "B = find_B(counts_up, counts_down, start, stop, T_ind)\n",
    "A = np.array([[1,0], [0,1]])\n",
    "pi = np.array([0.5, 0.5])\n",
    "\n",
    "acc_rate_up, acc_rate_down, p_acc_rate_up, p_acc_rate_down = test(A, B, pi, start, stop, data_up, data_down)"
   ]
  },
  {
   "cell_type": "code",
   "execution_count": 46,
   "id": "0ed28957",
   "metadata": {},
   "outputs": [
    {
     "name": "stdout",
     "output_type": "stream",
     "text": [
      "b_x is 0.001\n",
      "T_ind is 2500\n",
      "Up acc new:  0.988  acc old:  0.99\n",
      "Down acc new:  0.999  acc old:  0.999\n"
     ]
    }
   ],
   "source": [
    "print('b_x is', b_x)\n",
    "print('T_ind is', T_ind)\n",
    "print('Up acc new: ', acc_rate_up, ' acc old: ', p_acc_rate_up)\n",
    "print('Down acc new: ', acc_rate_down, ' acc old: ', p_acc_rate_down)"
   ]
  },
  {
   "cell_type": "code",
   "execution_count": 48,
   "id": "379fecde",
   "metadata": {},
   "outputs": [
    {
     "name": "stdout",
     "output_type": "stream",
     "text": [
      "75\n",
      "75\n",
      "b_x is 0.01\n",
      "T_ind is 2500\n",
      "Up acc new:  0.944  acc old:  0.989\n",
      "Down acc new:  0.999  acc old:  0.999\n"
     ]
    }
   ],
   "source": [
    "b_x = 0.01\n",
    "x_0 = -0.20\n",
    "x_N = 0.55\n",
    "\n",
    "T_ind = 2500\n",
    "\n",
    "data_up, data_down, counts_up, counts_down = process_data(start, stop, b_x, x_0, x_N, T_ind)\n",
    "\n",
    "B = find_B(counts_up, counts_down, x_0, x_N, b_x, start, stop, T_ind)\n",
    "A = np.array([[1,0], [0,1]])\n",
    "pi = np.array([0.5, 0.5])\n",
    "\n",
    "acc_rate_up, acc_rate_down, p_acc_rate_up, p_acc_rate_down = test(A, B, pi, start, stop, data_up, data_down)\n",
    "\n",
    "print('b_x is', b_x)\n",
    "print('T_ind is', T_ind)\n",
    "print('Up acc new: ', acc_rate_up, ' acc old: ', p_acc_rate_up)\n",
    "print('Down acc new: ', acc_rate_down, ' acc old: ', p_acc_rate_down)"
   ]
  },
  {
   "cell_type": "code",
   "execution_count": 50,
   "id": "2196b306",
   "metadata": {},
   "outputs": [
    {
     "name": "stdout",
     "output_type": "stream",
     "text": [
      "1500\n",
      "1500\n",
      "b_x is 0.0005\n",
      "T_ind is 2500\n",
      "Up acc new:  0.988  acc old:  0.99\n",
      "Down acc new:  0.999  acc old:  0.999\n"
     ]
    }
   ],
   "source": [
    "b_x = 0.0005\n",
    "x_0 = -0.20\n",
    "x_N = 0.55\n",
    "\n",
    "T_ind = 2500\n",
    "\n",
    "data_up, data_down, counts_up, counts_down = process_data(start, stop, b_x, x_0, x_N, T_ind)\n",
    "\n",
    "B = find_B(counts_up, counts_down, x_0, x_N, b_x, start, stop, T_ind)\n",
    "A = np.array([[1,0], [0,1]])\n",
    "pi = np.array([0.5, 0.5])\n",
    "\n",
    "acc_rate_up, acc_rate_down, p_acc_rate_up, p_acc_rate_down = test(A, B, pi, start, stop, data_up, data_down)\n",
    "\n",
    "print('b_x is', b_x)\n",
    "print('T_ind is', T_ind)\n",
    "print('Up acc new: ', acc_rate_up, ' acc old: ', p_acc_rate_up)\n",
    "print('Down acc new: ', acc_rate_down, ' acc old: ', p_acc_rate_down)"
   ]
  },
  {
   "cell_type": "code",
   "execution_count": 51,
   "id": "ab9a9f12",
   "metadata": {},
   "outputs": [
    {
     "name": "stdout",
     "output_type": "stream",
     "text": [
      "150\n",
      "150\n",
      "b_x is 0.005\n",
      "T_ind is 2500\n",
      "Up acc new:  0.952  acc old:  0.989\n",
      "Down acc new:  0.999  acc old:  0.999\n"
     ]
    }
   ],
   "source": [
    "b_x = 0.005\n",
    "x_0 = -0.20\n",
    "x_N = 0.55\n",
    "\n",
    "T_ind = 2500\n",
    "\n",
    "data_up, data_down, counts_up, counts_down = process_data(start, stop, b_x, x_0, x_N, T_ind)\n",
    "\n",
    "B = find_B(counts_up, counts_down, x_0, x_N, b_x, start, stop, T_ind)\n",
    "A = np.array([[1,0], [0,1]])\n",
    "pi = np.array([0.5, 0.5])\n",
    "\n",
    "acc_rate_up, acc_rate_down, p_acc_rate_up, p_acc_rate_down = test(A, B, pi, start, stop, data_up, data_down)\n",
    "\n",
    "print('b_x is', b_x)\n",
    "print('T_ind is', T_ind)\n",
    "print('Up acc new: ', acc_rate_up, ' acc old: ', p_acc_rate_up)\n",
    "print('Down acc new: ', acc_rate_down, ' acc old: ', p_acc_rate_down)"
   ]
  },
  {
   "cell_type": "code",
   "execution_count": 52,
   "id": "3640e2e1",
   "metadata": {},
   "outputs": [
    {
     "name": "stdout",
     "output_type": "stream",
     "text": [
      "75000\n",
      "75000\n",
      "b_x is 1e-05\n",
      "T_ind is 2500\n",
      "Up acc new:  0.988  acc old:  0.99\n",
      "Down acc new:  0.999  acc old:  0.999\n"
     ]
    }
   ],
   "source": [
    "b_x = 0.00001\n",
    "x_0 = -0.20\n",
    "x_N = 0.55\n",
    "\n",
    "T_ind = 2500\n",
    "\n",
    "data_up, data_down, counts_up, counts_down = process_data(start, stop, b_x, x_0, x_N, T_ind)\n",
    "\n",
    "B = find_B(counts_up, counts_down, x_0, x_N, b_x, start, stop, T_ind)\n",
    "A = np.array([[1,0], [0,1]])\n",
    "pi = np.array([0.5, 0.5])\n",
    "\n",
    "acc_rate_up, acc_rate_down, p_acc_rate_up, p_acc_rate_down = test(A, B, pi, start, stop, data_up, data_down)\n",
    "\n",
    "print('b_x is', b_x)\n",
    "print('T_ind is', T_ind)\n",
    "print('Up acc new: ', acc_rate_up, ' acc old: ', p_acc_rate_up)\n",
    "print('Down acc new: ', acc_rate_down, ' acc old: ', p_acc_rate_down)"
   ]
  },
  {
   "cell_type": "code",
   "execution_count": 53,
   "id": "5826d6ee",
   "metadata": {},
   "outputs": [
    {
     "name": "stdout",
     "output_type": "stream",
     "text": [
      "75\n",
      "75\n",
      "b_x is 0.01\n",
      "T is 314.0\n",
      "Up acc new:  0.982  acc old:  0.98\n",
      "Down acc new:  1.0  acc old:  1.0\n"
     ]
    }
   ],
   "source": [
    "b_x = 0.01\n",
    "x_0 = -0.20\n",
    "x_N = 0.55\n",
    "\n",
    "T_ind = 800\n",
    "\n",
    "data_up, data_down, counts_up, counts_down = process_data(start, stop, b_x, x_0, x_N, T_ind)\n",
    "\n",
    "B = find_B(counts_up, counts_down, x_0, x_N, b_x, start, stop, T_ind)\n",
    "A = np.array([[1,0], [0,1]])\n",
    "pi = np.array([0.5, 0.5])\n",
    "\n",
    "acc_rate_up, acc_rate_down, p_acc_rate_up, p_acc_rate_down = test(A, B, pi, start, stop, data_up, data_down)\n",
    "\n",
    "print('b_x is', b_x)\n",
    "print('T is', (T_ind-15)*1e6/(2.5e6))\n",
    "print('Up acc new: ', acc_rate_up, ' acc old: ', p_acc_rate_up)\n",
    "print('Down acc new: ', acc_rate_down, ' acc old: ', p_acc_rate_down)"
   ]
  },
  {
   "cell_type": "code",
   "execution_count": 54,
   "id": "075fe96b",
   "metadata": {
    "scrolled": true
   },
   "outputs": [
    {
     "name": "stdout",
     "output_type": "stream",
     "text": [
      "150\n",
      "150\n",
      "b_x is 0.005\n",
      "T is 314.0\n",
      "Up acc new:  0.982  acc old:  0.98\n",
      "Down acc new:  1.0  acc old:  1.0\n"
     ]
    }
   ],
   "source": [
    "b_x = 0.005\n",
    "x_0 = -0.20\n",
    "x_N = 0.55\n",
    "\n",
    "T_ind = 800\n",
    "\n",
    "data_up, data_down, counts_up, counts_down = process_data(start, stop, b_x, x_0, x_N, T_ind)\n",
    "\n",
    "B = find_B(counts_up, counts_down, x_0, x_N, b_x, start, stop, T_ind)\n",
    "A = np.array([[1,0], [0,1]])\n",
    "pi = np.array([0.5, 0.5])\n",
    "\n",
    "acc_rate_up, acc_rate_down, p_acc_rate_up, p_acc_rate_down = test(A, B, pi, start, stop, data_up, data_down)\n",
    "\n",
    "print('b_x is', b_x)\n",
    "print('T is', (T_ind-15)*1e6/(2.5e6))\n",
    "print('Up acc new: ', acc_rate_up, ' acc old: ', p_acc_rate_up)\n",
    "print('Down acc new: ', acc_rate_down, ' acc old: ', p_acc_rate_down)"
   ]
  },
  {
   "cell_type": "code",
   "execution_count": 55,
   "id": "d09478ae",
   "metadata": {},
   "outputs": [
    {
     "name": "stdout",
     "output_type": "stream",
     "text": [
      "7500\n",
      "7500\n",
      "b_x is 0.0001\n",
      "T is 314.0\n",
      "Up acc new:  0.983  acc old:  0.981\n",
      "Down acc new:  1.0  acc old:  1.0\n"
     ]
    }
   ],
   "source": [
    "b_x = 0.0001\n",
    "x_0 = -0.20\n",
    "x_N = 0.55\n",
    "\n",
    "T_ind = 800\n",
    "\n",
    "data_up, data_down, counts_up, counts_down = process_data(start, stop, b_x, x_0, x_N, T_ind)\n",
    "\n",
    "B = find_B(counts_up, counts_down, x_0, x_N, b_x, start, stop, T_ind)\n",
    "A = np.array([[1,0], [0,1]])\n",
    "pi = np.array([0.5, 0.5])\n",
    "\n",
    "acc_rate_up, acc_rate_down, p_acc_rate_up, p_acc_rate_down = test(A, B, pi, start, stop, data_up, data_down)\n",
    "\n",
    "print('b_x is', b_x)\n",
    "print('T is', (T_ind-15)*1e6/(2.5e6))\n",
    "print('Up acc new: ', acc_rate_up, ' acc old: ', p_acc_rate_up)\n",
    "print('Down acc new: ', acc_rate_down, ' acc old: ', p_acc_rate_down)"
   ]
  },
  {
   "cell_type": "code",
   "execution_count": 56,
   "id": "8e65398c",
   "metadata": {},
   "outputs": [
    {
     "name": "stdout",
     "output_type": "stream",
     "text": [
      "1500\n",
      "1500\n",
      "b_x is 0.0005\n",
      "T is 314.0\n",
      "Up acc new:  0.983  acc old:  0.981\n",
      "Down acc new:  1.0  acc old:  1.0\n"
     ]
    }
   ],
   "source": [
    "b_x = 0.0005\n",
    "x_0 = -0.20\n",
    "x_N = 0.55\n",
    "\n",
    "T_ind = 800\n",
    "\n",
    "data_up, data_down, counts_up, counts_down = process_data(start, stop, b_x, x_0, x_N, T_ind)\n",
    "\n",
    "B = find_B(counts_up, counts_down, x_0, x_N, b_x, start, stop, T_ind)\n",
    "A = np.array([[1,0], [0,1]])\n",
    "pi = np.array([0.5, 0.5])\n",
    "\n",
    "acc_rate_up, acc_rate_down, p_acc_rate_up, p_acc_rate_down = test(A, B, pi, start, stop, data_up, data_down)\n",
    "\n",
    "print('b_x is', b_x)\n",
    "print('T is', (T_ind-15)*1e6/(2.5e6))\n",
    "print('Up acc new: ', acc_rate_up, ' acc old: ', p_acc_rate_up)\n",
    "print('Down acc new: ', acc_rate_down, ' acc old: ', p_acc_rate_down)"
   ]
  },
  {
   "cell_type": "code",
   "execution_count": 57,
   "id": "58ba86aa",
   "metadata": {},
   "outputs": [
    {
     "name": "stdout",
     "output_type": "stream",
     "text": [
      "75000\n",
      "75000\n",
      "b_x is 1e-05\n",
      "T is 314.0\n",
      "Up acc new:  0.983  acc old:  0.981\n",
      "Down acc new:  1.0  acc old:  1.0\n"
     ]
    }
   ],
   "source": [
    "b_x = 0.00001\n",
    "x_0 = -0.20\n",
    "x_N = 0.55\n",
    "\n",
    "T_ind = 800\n",
    "\n",
    "data_up, data_down, counts_up, counts_down = process_data(start, stop, b_x, x_0, x_N, T_ind)\n",
    "\n",
    "B = find_B(counts_up, counts_down, x_0, x_N, b_x, start, stop, T_ind)\n",
    "A = np.array([[1,0], [0,1]])\n",
    "pi = np.array([0.5, 0.5])\n",
    "\n",
    "acc_rate_up, acc_rate_down, p_acc_rate_up, p_acc_rate_down = test(A, B, pi, start, stop, data_up, data_down)\n",
    "\n",
    "print('b_x is', b_x)\n",
    "print('T is', (T_ind-15)*1e6/(2.5e6))\n",
    "print('Up acc new: ', acc_rate_up, ' acc old: ', p_acc_rate_up)\n",
    "print('Down acc new: ', acc_rate_down, ' acc old: ', p_acc_rate_down)"
   ]
  },
  {
   "cell_type": "code",
   "execution_count": 59,
   "id": "4073455d",
   "metadata": {},
   "outputs": [
    {
     "name": "stdout",
     "output_type": "stream",
     "text": [
      "75\n",
      "75\n",
      "b_x is 0.01\n",
      "T is 674.0\n",
      "Up acc new:  0.945  acc old:  0.989\n",
      "Down acc new:  0.999  acc old:  0.999\n"
     ]
    }
   ],
   "source": [
    "b_x = 0.01\n",
    "x_0 = -0.20\n",
    "x_N = 0.55\n",
    "\n",
    "T_ind = 1700\n",
    "\n",
    "data_up, data_down, counts_up, counts_down = process_data(start, stop, b_x, x_0, x_N, T_ind)\n",
    "\n",
    "B = find_B(counts_up, counts_down, x_0, x_N, b_x, start, stop, T_ind)\n",
    "A = np.array([[1,0], [0,1]])\n",
    "pi = np.array([0.5, 0.5])\n",
    "\n",
    "acc_rate_up, acc_rate_down, p_acc_rate_up, p_acc_rate_down = test(A, B, pi, start, stop, data_up, data_down)\n",
    "\n",
    "print('b_x is', b_x)\n",
    "print('T is', (T_ind-15)*1e6/(2.5e6))\n",
    "print('Up acc new: ', acc_rate_up, ' acc old: ', p_acc_rate_up)\n",
    "print('Down acc new: ', acc_rate_down, ' acc old: ', p_acc_rate_down)"
   ]
  },
  {
   "cell_type": "code",
   "execution_count": 60,
   "id": "66d0d65e",
   "metadata": {},
   "outputs": [
    {
     "name": "stdout",
     "output_type": "stream",
     "text": [
      "150\n",
      "150\n",
      "b_x is 0.005\n",
      "T is 674.0\n",
      "Up acc new:  0.952  acc old:  0.989\n",
      "Down acc new:  0.999  acc old:  0.999\n"
     ]
    }
   ],
   "source": [
    "b_x = 0.005\n",
    "x_0 = -0.20\n",
    "x_N = 0.55\n",
    "\n",
    "T_ind = 1700\n",
    "\n",
    "data_up, data_down, counts_up, counts_down = process_data(start, stop, b_x, x_0, x_N, T_ind)\n",
    "\n",
    "B = find_B(counts_up, counts_down, x_0, x_N, b_x, start, stop, T_ind)\n",
    "A = np.array([[1,0], [0,1]])\n",
    "pi = np.array([0.5, 0.5])\n",
    "\n",
    "acc_rate_up, acc_rate_down, p_acc_rate_up, p_acc_rate_down = test(A, B, pi, start, stop, data_up, data_down)\n",
    "\n",
    "print('b_x is', b_x)\n",
    "print('T is', (T_ind-15)*1e6/(2.5e6))\n",
    "print('Up acc new: ', acc_rate_up, ' acc old: ', p_acc_rate_up)\n",
    "print('Down acc new: ', acc_rate_down, ' acc old: ', p_acc_rate_down)"
   ]
  },
  {
   "cell_type": "code",
   "execution_count": 61,
   "id": "342e035d",
   "metadata": {},
   "outputs": [
    {
     "name": "stdout",
     "output_type": "stream",
     "text": [
      "750\n",
      "750\n",
      "b_x is 0.001\n",
      "T is 674.0\n",
      "Up acc new:  0.989  acc old:  0.99\n",
      "Down acc new:  0.999  acc old:  0.999\n"
     ]
    }
   ],
   "source": [
    "b_x = 0.001\n",
    "x_0 = -0.20\n",
    "x_N = 0.55\n",
    "\n",
    "T_ind = 1700\n",
    "\n",
    "data_up, data_down, counts_up, counts_down = process_data(start, stop, b_x, x_0, x_N, T_ind)\n",
    "\n",
    "B = find_B(counts_up, counts_down, x_0, x_N, b_x, start, stop, T_ind)\n",
    "A = np.array([[1,0], [0,1]])\n",
    "pi = np.array([0.5, 0.5])\n",
    "\n",
    "acc_rate_up, acc_rate_down, p_acc_rate_up, p_acc_rate_down = test(A, B, pi, start, stop, data_up, data_down)\n",
    "\n",
    "print('b_x is', b_x)\n",
    "print('T is', (T_ind-15)*1e6/(2.5e6))\n",
    "print('Up acc new: ', acc_rate_up, ' acc old: ', p_acc_rate_up)\n",
    "print('Down acc new: ', acc_rate_down, ' acc old: ', p_acc_rate_down)"
   ]
  },
  {
   "cell_type": "code",
   "execution_count": 62,
   "id": "d6ff7616",
   "metadata": {},
   "outputs": [
    {
     "name": "stdout",
     "output_type": "stream",
     "text": [
      "1500\n",
      "1500\n",
      "b_x is 0.0005\n",
      "T is 674.0\n",
      "Up acc new:  0.989  acc old:  0.99\n",
      "Down acc new:  0.999  acc old:  0.999\n"
     ]
    }
   ],
   "source": [
    "b_x = 0.0005\n",
    "x_0 = -0.20\n",
    "x_N = 0.55\n",
    "\n",
    "T_ind = 1700\n",
    "\n",
    "data_up, data_down, counts_up, counts_down = process_data(start, stop, b_x, x_0, x_N, T_ind)\n",
    "\n",
    "B = find_B(counts_up, counts_down, x_0, x_N, b_x, start, stop, T_ind)\n",
    "A = np.array([[1,0], [0,1]])\n",
    "pi = np.array([0.5, 0.5])\n",
    "\n",
    "acc_rate_up, acc_rate_down, p_acc_rate_up, p_acc_rate_down = test(A, B, pi, start, stop, data_up, data_down)\n",
    "\n",
    "print('b_x is', b_x)\n",
    "print('T is', (T_ind-15)*1e6/(2.5e6))\n",
    "print('Up acc new: ', acc_rate_up, ' acc old: ', p_acc_rate_up)\n",
    "print('Down acc new: ', acc_rate_down, ' acc old: ', p_acc_rate_down)"
   ]
  },
  {
   "cell_type": "code",
   "execution_count": 63,
   "id": "39f1a09e",
   "metadata": {},
   "outputs": [
    {
     "name": "stdout",
     "output_type": "stream",
     "text": [
      "75000\n",
      "75000\n",
      "b_x is 1e-05\n",
      "T is 674.0\n",
      "Up acc new:  0.989  acc old:  0.99\n",
      "Down acc new:  0.999  acc old:  0.999\n"
     ]
    }
   ],
   "source": [
    "b_x = 0.00001\n",
    "x_0 = -0.20\n",
    "x_N = 0.55\n",
    "\n",
    "T_ind = 1700\n",
    "\n",
    "data_up, data_down, counts_up, counts_down = process_data(start, stop, b_x, x_0, x_N, T_ind)\n",
    "\n",
    "B = find_B(counts_up, counts_down, x_0, x_N, b_x, start, stop, T_ind)\n",
    "A = np.array([[1,0], [0,1]])\n",
    "pi = np.array([0.5, 0.5])\n",
    "\n",
    "acc_rate_up, acc_rate_down, p_acc_rate_up, p_acc_rate_down = test(A, B, pi, start, stop, data_up, data_down)\n",
    "\n",
    "print('b_x is', b_x)\n",
    "print('T is', (T_ind-15)*1e6/(2.5e6))\n",
    "print('Up acc new: ', acc_rate_up, ' acc old: ', p_acc_rate_up)\n",
    "print('Down acc new: ', acc_rate_down, ' acc old: ', p_acc_rate_down)"
   ]
  },
  {
   "cell_type": "code",
   "execution_count": 65,
   "id": "a07e5ccc",
   "metadata": {},
   "outputs": [
    {
     "name": "stdout",
     "output_type": "stream",
     "text": [
      "75\n",
      "75\n",
      "b_x is 0.01\n",
      "T is 754.0\n",
      "Up acc new:  0.945  acc old:  0.989\n",
      "Down acc new:  0.999  acc old:  0.999\n"
     ]
    }
   ],
   "source": [
    "b_x = 0.01\n",
    "x_0 = -0.20\n",
    "x_N = 0.55\n",
    "\n",
    "T_ind = 1900\n",
    "\n",
    "data_up, data_down, counts_up, counts_down = process_data(start, stop, b_x, x_0, x_N, T_ind)\n",
    "\n",
    "B = find_B(counts_up, counts_down, x_0, x_N, b_x, start, stop, T_ind)\n",
    "A = np.array([[1,0], [0,1]])\n",
    "pi = np.array([0.5, 0.5])\n",
    "\n",
    "acc_rate_up, acc_rate_down, p_acc_rate_up, p_acc_rate_down = test(A, B, pi, start, stop, data_up, data_down)\n",
    "\n",
    "print('b_x is', b_x)\n",
    "print('T is', (T_ind-15)*1e6/(2.5e6))\n",
    "print('Up acc new: ', acc_rate_up, ' acc old: ', p_acc_rate_up)\n",
    "print('Down acc new: ', acc_rate_down, ' acc old: ', p_acc_rate_down)"
   ]
  },
  {
   "cell_type": "code",
   "execution_count": 66,
   "id": "a0310260",
   "metadata": {},
   "outputs": [
    {
     "name": "stdout",
     "output_type": "stream",
     "text": [
      "150\n",
      "150\n",
      "b_x is 0.005\n",
      "T is 754.0\n",
      "Up acc new:  0.952  acc old:  0.989\n",
      "Down acc new:  0.999  acc old:  0.999\n"
     ]
    }
   ],
   "source": [
    "b_x = 0.005\n",
    "x_0 = -0.20\n",
    "x_N = 0.55\n",
    "\n",
    "T_ind = 1900\n",
    "\n",
    "data_up, data_down, counts_up, counts_down = process_data(start, stop, b_x, x_0, x_N, T_ind)\n",
    "\n",
    "B = find_B(counts_up, counts_down, x_0, x_N, b_x, start, stop, T_ind)\n",
    "A = np.array([[1,0], [0,1]])\n",
    "pi = np.array([0.5, 0.5])\n",
    "\n",
    "acc_rate_up, acc_rate_down, p_acc_rate_up, p_acc_rate_down = test(A, B, pi, start, stop, data_up, data_down)\n",
    "\n",
    "print('b_x is', b_x)\n",
    "print('T is', (T_ind-15)*1e6/(2.5e6))\n",
    "print('Up acc new: ', acc_rate_up, ' acc old: ', p_acc_rate_up)\n",
    "print('Down acc new: ', acc_rate_down, ' acc old: ', p_acc_rate_down)"
   ]
  },
  {
   "cell_type": "code",
   "execution_count": 67,
   "id": "8b85f125",
   "metadata": {},
   "outputs": [
    {
     "name": "stdout",
     "output_type": "stream",
     "text": [
      "750\n",
      "750\n",
      "b_x is 0.001\n",
      "T is 754.0\n",
      "Up acc new:  0.989  acc old:  0.99\n",
      "Down acc new:  0.999  acc old:  0.999\n"
     ]
    }
   ],
   "source": [
    "b_x = 0.001\n",
    "x_0 = -0.20\n",
    "x_N = 0.55\n",
    "\n",
    "T_ind = 1900\n",
    "\n",
    "data_up, data_down, counts_up, counts_down = process_data(start, stop, b_x, x_0, x_N, T_ind)\n",
    "\n",
    "B = find_B(counts_up, counts_down, x_0, x_N, b_x, start, stop, T_ind)\n",
    "A = np.array([[1,0], [0,1]])\n",
    "pi = np.array([0.5, 0.5])\n",
    "\n",
    "acc_rate_up, acc_rate_down, p_acc_rate_up, p_acc_rate_down = test(A, B, pi, start, stop, data_up, data_down)\n",
    "\n",
    "print('b_x is', b_x)\n",
    "print('T is', (T_ind-15)*1e6/(2.5e6))\n",
    "print('Up acc new: ', acc_rate_up, ' acc old: ', p_acc_rate_up)\n",
    "print('Down acc new: ', acc_rate_down, ' acc old: ', p_acc_rate_down)"
   ]
  },
  {
   "cell_type": "code",
   "execution_count": 68,
   "id": "5be5ac45",
   "metadata": {},
   "outputs": [
    {
     "name": "stdout",
     "output_type": "stream",
     "text": [
      "1500\n",
      "1500\n",
      "b_x is 0.0005\n",
      "T is 754.0\n",
      "Up acc new:  0.989  acc old:  0.99\n",
      "Down acc new:  0.999  acc old:  0.999\n"
     ]
    }
   ],
   "source": [
    "b_x = 0.0005\n",
    "x_0 = -0.20\n",
    "x_N = 0.55\n",
    "\n",
    "T_ind = 1900\n",
    "\n",
    "data_up, data_down, counts_up, counts_down = process_data(start, stop, b_x, x_0, x_N, T_ind)\n",
    "\n",
    "B = find_B(counts_up, counts_down, x_0, x_N, b_x, start, stop, T_ind)\n",
    "A = np.array([[1,0], [0,1]])\n",
    "pi = np.array([0.5, 0.5])\n",
    "\n",
    "acc_rate_up, acc_rate_down, p_acc_rate_up, p_acc_rate_down = test(A, B, pi, start, stop, data_up, data_down)\n",
    "\n",
    "print('b_x is', b_x)\n",
    "print('T is', (T_ind-15)*1e6/(2.5e6))\n",
    "print('Up acc new: ', acc_rate_up, ' acc old: ', p_acc_rate_up)\n",
    "print('Down acc new: ', acc_rate_down, ' acc old: ', p_acc_rate_down)"
   ]
  },
  {
   "cell_type": "code",
   "execution_count": 69,
   "id": "d06f9c66",
   "metadata": {},
   "outputs": [
    {
     "name": "stdout",
     "output_type": "stream",
     "text": [
      "75000\n",
      "75000\n",
      "b_x is 1e-05\n",
      "T is 754.0\n",
      "Up acc new:  0.989  acc old:  0.99\n",
      "Down acc new:  0.999  acc old:  0.999\n"
     ]
    }
   ],
   "source": [
    "b_x = 0.00001\n",
    "x_0 = -0.20\n",
    "x_N = 0.55\n",
    "\n",
    "T_ind = 1900\n",
    "\n",
    "data_up, data_down, counts_up, counts_down = process_data(start, stop, b_x, x_0, x_N, T_ind)\n",
    "\n",
    "B = find_B(counts_up, counts_down, x_0, x_N, b_x, start, stop, T_ind)\n",
    "A = np.array([[1,0], [0,1]])\n",
    "pi = np.array([0.5, 0.5])\n",
    "\n",
    "acc_rate_up, acc_rate_down, p_acc_rate_up, p_acc_rate_down = test(A, B, pi, start, stop, data_up, data_down)\n",
    "\n",
    "print('b_x is', b_x)\n",
    "print('T is', (T_ind-15)*1e6/(2.5e6))\n",
    "print('Up acc new: ', acc_rate_up, ' acc old: ', p_acc_rate_up)\n",
    "print('Down acc new: ', acc_rate_down, ' acc old: ', p_acc_rate_down)"
   ]
  },
  {
   "cell_type": "code",
   "execution_count": 73,
   "id": "14e51bac",
   "metadata": {},
   "outputs": [
    {
     "name": "stdout",
     "output_type": "stream",
     "text": [
      "75\n",
      "75\n",
      "b_x is 0.01\n",
      "T is 594.0\n",
      "Up acc new:  0.945  acc old:  0.989\n",
      "Down acc new:  0.999  acc old:  0.999\n"
     ]
    }
   ],
   "source": [
    "b_x = 0.01\n",
    "x_0 = -0.20\n",
    "x_N = 0.55\n",
    "\n",
    "T_ind = 1500\n",
    "\n",
    "data_up, data_down, counts_up, counts_down = process_data(start, stop, b_x, x_0, x_N, T_ind)\n",
    "\n",
    "B = find_B(counts_up, counts_down, x_0, x_N, b_x, start, stop, T_ind)\n",
    "A = np.array([[1,0], [0,1]])\n",
    "pi = np.array([0.5, 0.5])\n",
    "\n",
    "acc_rate_up, acc_rate_down, p_acc_rate_up, p_acc_rate_down = test(A, B, pi, start, stop, data_up, data_down)\n",
    "\n",
    "print('b_x is', b_x)\n",
    "print('T is', (T_ind-15)*1e6/(2.5e6))\n",
    "print('Up acc new: ', acc_rate_up, ' acc old: ', p_acc_rate_up)\n",
    "print('Down acc new: ', acc_rate_down, ' acc old: ', p_acc_rate_down)"
   ]
  },
  {
   "cell_type": "code",
   "execution_count": 74,
   "id": "a83c1541",
   "metadata": {},
   "outputs": [
    {
     "name": "stdout",
     "output_type": "stream",
     "text": [
      "150\n",
      "150\n",
      "b_x is 0.005\n",
      "T is 594.0\n",
      "Up acc new:  0.952  acc old:  0.989\n",
      "Down acc new:  0.999  acc old:  0.999\n"
     ]
    }
   ],
   "source": [
    "b_x = 0.005\n",
    "x_0 = -0.20\n",
    "x_N = 0.55\n",
    "\n",
    "T_ind = 1500\n",
    "\n",
    "data_up, data_down, counts_up, counts_down = process_data(start, stop, b_x, x_0, x_N, T_ind)\n",
    "\n",
    "B = find_B(counts_up, counts_down, x_0, x_N, b_x, start, stop, T_ind)\n",
    "A = np.array([[1,0], [0,1]])\n",
    "pi = np.array([0.5, 0.5])\n",
    "\n",
    "acc_rate_up, acc_rate_down, p_acc_rate_up, p_acc_rate_down = test(A, B, pi, start, stop, data_up, data_down)\n",
    "\n",
    "print('b_x is', b_x)\n",
    "print('T is', (T_ind-15)*1e6/(2.5e6))\n",
    "print('Up acc new: ', acc_rate_up, ' acc old: ', p_acc_rate_up)\n",
    "print('Down acc new: ', acc_rate_down, ' acc old: ', p_acc_rate_down)"
   ]
  },
  {
   "cell_type": "code",
   "execution_count": 75,
   "id": "e3af7f29",
   "metadata": {},
   "outputs": [
    {
     "name": "stdout",
     "output_type": "stream",
     "text": [
      "750\n",
      "750\n",
      "b_x is 0.001\n",
      "T is 594.0\n",
      "Up acc new:  0.989  acc old:  0.99\n",
      "Down acc new:  0.999  acc old:  0.999\n"
     ]
    }
   ],
   "source": [
    "b_x = 0.001\n",
    "x_0 = -0.20\n",
    "x_N = 0.55\n",
    "\n",
    "T_ind = 1500\n",
    "\n",
    "data_up, data_down, counts_up, counts_down = process_data(start, stop, b_x, x_0, x_N, T_ind)\n",
    "\n",
    "B = find_B(counts_up, counts_down, x_0, x_N, b_x, start, stop, T_ind)\n",
    "A = np.array([[1,0], [0,1]])\n",
    "pi = np.array([0.5, 0.5])\n",
    "\n",
    "acc_rate_up, acc_rate_down, p_acc_rate_up, p_acc_rate_down = test(A, B, pi, start, stop, data_up, data_down)\n",
    "\n",
    "print('b_x is', b_x)\n",
    "print('T is', (T_ind-15)*1e6/(2.5e6))\n",
    "print('Up acc new: ', acc_rate_up, ' acc old: ', p_acc_rate_up)\n",
    "print('Down acc new: ', acc_rate_down, ' acc old: ', p_acc_rate_down)"
   ]
  },
  {
   "cell_type": "code",
   "execution_count": 76,
   "id": "03000e26",
   "metadata": {},
   "outputs": [
    {
     "name": "stdout",
     "output_type": "stream",
     "text": [
      "1500\n",
      "1500\n",
      "b_x is 0.0005\n",
      "T is 594.0\n",
      "Up acc new:  0.989  acc old:  0.99\n",
      "Down acc new:  0.999  acc old:  0.999\n"
     ]
    }
   ],
   "source": [
    "b_x = 0.0005\n",
    "x_0 = -0.20\n",
    "x_N = 0.55\n",
    "\n",
    "T_ind = 1500\n",
    "\n",
    "data_up, data_down, counts_up, counts_down = process_data(start, stop, b_x, x_0, x_N, T_ind)\n",
    "\n",
    "B = find_B(counts_up, counts_down, x_0, x_N, b_x, start, stop, T_ind)\n",
    "A = np.array([[1,0], [0,1]])\n",
    "pi = np.array([0.5, 0.5])\n",
    "\n",
    "acc_rate_up, acc_rate_down, p_acc_rate_up, p_acc_rate_down = test(A, B, pi, start, stop, data_up, data_down)\n",
    "\n",
    "print('b_x is', b_x)\n",
    "print('T is', (T_ind-15)*1e6/(2.5e6))\n",
    "print('Up acc new: ', acc_rate_up, ' acc old: ', p_acc_rate_up)\n",
    "print('Down acc new: ', acc_rate_down, ' acc old: ', p_acc_rate_down)"
   ]
  },
  {
   "cell_type": "code",
   "execution_count": 77,
   "id": "309294ca",
   "metadata": {},
   "outputs": [
    {
     "name": "stdout",
     "output_type": "stream",
     "text": [
      "75000\n",
      "75000\n",
      "b_x is 1e-05\n",
      "T is 594.0\n",
      "Up acc new:  0.989  acc old:  0.99\n",
      "Down acc new:  0.999  acc old:  0.999\n"
     ]
    }
   ],
   "source": [
    "b_x = 0.00001\n",
    "x_0 = -0.20\n",
    "x_N = 0.55\n",
    "\n",
    "T_ind = 1500\n",
    "\n",
    "data_up, data_down, counts_up, counts_down = process_data(start, stop, b_x, x_0, x_N, T_ind)\n",
    "\n",
    "B = find_B(counts_up, counts_down, x_0, x_N, b_x, start, stop, T_ind)\n",
    "A = np.array([[1,0], [0,1]])\n",
    "pi = np.array([0.5, 0.5])\n",
    "\n",
    "acc_rate_up, acc_rate_down, p_acc_rate_up, p_acc_rate_down = test(A, B, pi, start, stop, data_up, data_down)\n",
    "\n",
    "print('b_x is', b_x)\n",
    "print('T is', (T_ind-15)*1e6/(2.5e6))\n",
    "print('Up acc new: ', acc_rate_up, ' acc old: ', p_acc_rate_up)\n",
    "print('Down acc new: ', acc_rate_down, ' acc old: ', p_acc_rate_down)"
   ]
  },
  {
   "cell_type": "code",
   "execution_count": 93,
   "id": "beffd466",
   "metadata": {},
   "outputs": [
    {
     "name": "stdout",
     "output_type": "stream",
     "text": [
      "75000\n",
      "75000\n",
      "b_x is 1e-05\n",
      "T is 754.0\n",
      "Up acc new:  0.989  acc old:  0.99\n",
      "Down acc new:  0.999  acc old:  0.999\n"
     ]
    }
   ],
   "source": [
    "start=0\n",
    "stop=1000\n",
    "\n",
    "b_x = 0.00001\n",
    "x_0 = -0.20\n",
    "x_N = 0.55\n",
    "\n",
    "T_ind = 1900\n",
    "\n",
    "data_up, data_down, counts_up, counts_down = process_data(start, stop, b_x, x_0, x_N, T_ind)\n",
    "\n",
    "B = find_B(counts_up, counts_down, x_0, x_N, b_x, start, stop, T_ind)\n",
    "A = np.array([[1,0], [0,1]])\n",
    "pi = np.array([0.5, 0.5])\n",
    "\n",
    "acc_rate_up, acc_rate_down, p_acc_rate_up, p_acc_rate_down = test(A, B, pi, start, stop, data_up, data_down)\n",
    "\n",
    "print('b_x is', b_x)\n",
    "print('T is', (T_ind-15)*1e6/(2.5e6))\n",
    "print('Up acc new: ', acc_rate_up, ' acc old: ', p_acc_rate_up)\n",
    "print('Down acc new: ', acc_rate_down, ' acc old: ', p_acc_rate_down)"
   ]
  },
  {
   "cell_type": "markdown",
   "id": "43054311",
   "metadata": {},
   "source": [
    "# Train model "
   ]
  },
  {
   "cell_type": "code",
   "execution_count": 94,
   "id": "0d66034d",
   "metadata": {},
   "outputs": [
    {
     "name": "stdout",
     "output_type": "stream",
     "text": [
      "750\n",
      "750\n",
      "b_x is 0.001\n",
      "T_ind is 1700\n",
      "Up acc new:  0.8956666666666667  acc old:  0.9906666666666667\n",
      "Down acc new:  0.9973333333333333  acc old:  0.9963333333333333\n"
     ]
    }
   ],
   "source": [
    "start = 1000\n",
    "stop = 4000\n",
    "\n",
    "b_x = 0.001\n",
    "x_0 = -0.20\n",
    "x_N = 0.55\n",
    "\n",
    "T_ind = 1700\n",
    "\n",
    "data_up, data_down, counts_up, counts_down = process_data(start, stop, b_x, x_0, x_N, T_ind)\n",
    "\n",
    "B = find_B(counts_up, counts_down, x_0, x_N, b_x, start, stop, T_ind)\n",
    "A = np.array([[1,0], [0,1]])\n",
    "pi = np.array([0.5, 0.5])\n",
    "\n",
    "acc_rate_up, acc_rate_down, p_acc_rate_up, p_acc_rate_down = test(A, B, pi, start, stop, data_up, data_down)\n",
    "\n",
    "print('b_x is', b_x)\n",
    "print('T_ind is', T_ind)\n",
    "print('Up acc new: ', acc_rate_up, ' acc old: ', p_acc_rate_up)\n",
    "print('Down acc new: ', acc_rate_down, ' acc old: ', p_acc_rate_down)"
   ]
  },
  {
   "cell_type": "markdown",
   "id": "9094241e",
   "metadata": {},
   "source": [
    "# Test model "
   ]
  },
  {
   "cell_type": "code",
   "execution_count": 95,
   "id": "83c168f8",
   "metadata": {},
   "outputs": [
    {
     "data": {
      "text/plain": [
       "<matplotlib.collections.PathCollection at 0x7f86e04d6c40>"
      ]
     },
     "execution_count": 95,
     "metadata": {},
     "output_type": "execute_result"
    },
    {
     "data": {
      "image/png": "[encoded data removed]",
      "text/plain": [
       "<Figure size 432x288 with 1 Axes>"
      ]
     },
     "metadata": {
      "needs_background": "light"
     },
     "output_type": "display_data"
    }
   ],
   "source": [
    "plt.scatter(range(len(B[0])), B[0])\n",
    "plt.scatter(range(len(B[1])), B[1])"
   ]
  },
  {
   "cell_type": "code",
   "execution_count": 97,
   "id": "7f1e73f2",
   "metadata": {},
   "outputs": [
    {
     "name": "stdout",
     "output_type": "stream",
     "text": [
      "750\n",
      "b_x is 0.001\n",
      "T is 674.0\n",
      "Up acc new:  0.907  acc old:  0.987\n",
      "Down acc new:  0.988  acc old:  0.997\n"
     ]
    }
   ],
   "source": [
    "start = 4000\n",
    "stop = 5000\n",
    "\n",
    "data_up, data_down, counts_up, counts_down = process_data(start, stop, b_x, x_0, x_N, T_ind)\n",
    "acc_rate_up, acc_rate_down, p_acc_rate_up, p_acc_rate_down = test(A, B, pi, start, stop, data_up, data_down)\n",
    "\n",
    "print('b_x is', b_x)\n",
    "print('T is', (T_ind-15)*1e6/(2.5e6))\n",
    "print('Up acc new: ', acc_rate_up, ' acc old: ', p_acc_rate_up)\n",
    "print('Down acc new: ', acc_rate_down, ' acc old: ', p_acc_rate_down)"
   ]
  },
  {
   "cell_type": "markdown",
   "id": "d8202acd",
   "metadata": {},
   "source": [
    "# Train and test model -- rotations"
   ]
  },
  {
   "cell_type": "code",
   "execution_count": 25,
   "id": "f4e4ac6a",
   "metadata": {},
   "outputs": [],
   "source": [
    "def train_rot(start_ind, wind_len):\n",
    "    \n",
    "    if start_ind + wind_len <= 5000:\n",
    "        start = start_ind \n",
    "        stop = start_ind + wind_len\n",
    "        start1 = 'n'\n",
    "        stop1 = 'n'\n",
    "    else:\n",
    "        start = start_ind \n",
    "        stop = 5000\n",
    "        start1 = 1000\n",
    "        stop1 = wind_len-(5000-start_ind)\n",
    "\n",
    "    if start1 == 'n':\n",
    "        data_up, data_down, counts_up, counts_down = process_data(start, stop, b_x, x_0, x_N, T_ind)\n",
    "        \n",
    "        B = find_B(counts_up, counts_down, start, stop, T_ind)\n",
    "        A = np.array([[1,0], [0,1]])\n",
    "        pi = np.array([0.5, 0.5])\n",
    "        \n",
    "    else:\n",
    "        data_up, data_down, counts_up, counts_down = process_data(start, stop, b_x, x_0, x_N, T_ind)\n",
    "        data_up1, data_down1, counts_up1, counts_down1 = process_data(start1, stop1, b_x, x_0, x_N, T_ind)\n",
    "        counts_up_full = np.add(counts_up,counts_up1)\n",
    "        counts_down_full = np.add(counts_down,counts_down1)\n",
    "        \n",
    "        B = find_B2(counts_up_full, counts_down_full, wind_len, T_ind)\n",
    "        A = np.array([[1,0], [0,1]])\n",
    "        pi = np.array([0.5, 0.5])     \n",
    "    \n",
    "    return A, B, pi"
   ]
  },
  {
   "cell_type": "code",
   "execution_count": 26,
   "id": "0fd3cb0d",
   "metadata": {},
   "outputs": [],
   "source": [
    "def test_rot(A, B, pi, start_ind, wind_len):\n",
    "\n",
    "    total = (wind_len)*2\n",
    "    \n",
    "    if start_ind + wind_len <= 5000:\n",
    "        start = start_ind \n",
    "        stop = start_ind + wind_len\n",
    "        start1 = 'n'\n",
    "        stop1 = 'n'\n",
    "    else:\n",
    "        start = start_ind \n",
    "        stop = 5000\n",
    "        start1 = 1000\n",
    "        stop1 = wind_len-(5000-start_ind)\n",
    "        \n",
    "    data_up, data_down, counts_up, counts_down = process_data(start, stop, b_x, x_0, x_N, T_ind)\n",
    "    acc_rate_up, acc_rate_down, p_acc_rate_up, p_acc_rate_down = test(A, B, pi, start, stop, data_up, data_down)\n",
    "    \n",
    "    return acc_rate_up, acc_rate_down, p_acc_rate_up, p_acc_rate_down"
   ]
  },
  {
   "cell_type": "code",
   "execution_count": 12,
   "id": "d6462f01",
   "metadata": {},
   "outputs": [],
   "source": [
    "window_size = 3000\n",
    "test_wind = 1000\n",
    "\n",
    "train_start_indicies = np.array([1000, 2000, 3000, 4000])\n",
    "test_start_indicies = np.array([4000, 1000, 2000, 3000])"
   ]
  },
  {
   "cell_type": "code",
   "execution_count": 31,
   "id": "e4c0249e",
   "metadata": {},
   "outputs": [
    {
     "name": "stdout",
     "output_type": "stream",
     "text": [
      "1000 New:  0.907 0.988 Old:  0.987 0.997\n",
      "2000 New:  0.894 0.992 Old:  0.992 0.994\n",
      "3000 New:  0.912 0.993 Old:  0.99 0.996\n",
      "4000 New:  0.922 0.986 Old:  0.99 0.999\n"
     ]
    }
   ],
   "source": [
    "b_x = 0.001\n",
    "T_ind = 1700\n",
    "\n",
    "x_0 = -0.20\n",
    "x_N = 0.55\n",
    "\n",
    "for i in range(len(train_start_indicies)):\n",
    "    \n",
    "    A, B, pi = train_rot(train_start_indicies[i], window_size)\n",
    "    \n",
    "    a, b, c, d = test_rot(A, B, pi, test_start_indicies[i], test_wind)\n",
    "\n",
    "    print(train_start_indicies[i], 'New: ', round(a, 4), round(b, 4), 'Old: ', round(c, 4), round(d, 4))"
   ]
  }
 ],
 "metadata": {
  "kernelspec": {
   "display_name": "Python 3 (ipykernel)",
   "language": "python",
   "name": "python3"
  },
  "language_info": {
   "codemirror_mode": {
    "name": "ipython",
    "version": 3
   },
   "file_extension": ".py",
   "mimetype": "text/x-python",
   "name": "python",
   "nbconvert_exporter": "python",
   "pygments_lexer": "ipython3",
   "version": "3.9.7"
  }
 },
 "nbformat": 4,
 "nbformat_minor": 5
}
